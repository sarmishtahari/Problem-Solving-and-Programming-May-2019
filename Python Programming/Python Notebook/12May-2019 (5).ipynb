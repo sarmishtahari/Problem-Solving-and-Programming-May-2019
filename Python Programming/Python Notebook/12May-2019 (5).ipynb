{
 "cells": [
  {
   "cell_type": "markdown",
   "metadata": {},
   "source": [
    "## Problem Solving and Programming\n",
    "\n",
    "## SarmishtaHari\n",
    "\n",
    "#### Day No:-9\n",
    "#### Date:- 12-5-2019\n"
   ]
  },
  {
   "cell_type": "markdown",
   "metadata": {},
   "source": [
    "### Day Objectives:Converting and Writing The  day9 & day10 Programs in Python code"
   ]
  },
  {
   "cell_type": "markdown",
   "metadata": {},
   "source": [
    "#### Problem 1:\n",
    "#### Problem Statement: \n",
    "Define a function to find the average of all the outer elements of an N x M matrix.\n",
    "#### Test cases\n",
    "* averageOuterMatrix([[1, 2, 3], [4, 5, 6], [7, 8, 9], [10, 11, 12]]->4.5"
   ]
  },
  {
   "cell_type": "code",
   "execution_count": 1,
   "metadata": {},
   "outputs": [
    {
     "data": {
      "text/plain": [
       "6.5"
      ]
     },
     "execution_count": 1,
     "metadata": {},
     "output_type": "execute_result"
    }
   ],
   "source": [
    "def averageOuterMatrix(a):\n",
    "    c=s=0\n",
    "    for i in range(0,len(a)):\n",
    "        if i==0 or i==len(a)-1:\n",
    "            s=s+sum(a[i])\n",
    "            c=c+len(a[i])\n",
    "        else:\n",
    "            s=s+a[i][0]+a[i][len(a[i])-1]\n",
    "            c=c+2\n",
    "    return s/c\n",
    "averageOuterMatrix([[1, 2, 3], [4, 5, 6], [7, 8, 9], [10, 11, 12]])"
   ]
  },
  {
   "cell_type": "markdown",
   "metadata": {},
   "source": [
    "#### Problem 2:\n",
    "#### Problem Statement:\n",
    "Define a function to print the sequence of spiral pattern elements for a given N x N matrix\n",
    "#### Test Cases:\n",
    "* spiralPattern([[1,2,3], [4,5,6], [7,8,9]]) -> 1 2 3 6 9 8 7 4 5"
   ]
  },
  {
   "cell_type": "code",
   "execution_count": 2,
   "metadata": {},
   "outputs": [
    {
     "name": "stdout",
     "output_type": "stream",
     "text": [
      "1 2 3 6 9 8 7 4 5 "
     ]
    }
   ],
   "source": [
    "def spiralPattern(a):\n",
    "    if len(a)%2==0:\n",
    "        n=len(a)\n",
    "    else:\n",
    "        n=len(a)+1\n",
    "    j=0\n",
    "    k=1\n",
    "    while(n!=0):\n",
    "        for i in range(j,len(a[j])-k):\n",
    "            print(a[j][i],end=' ')\n",
    "        for i in range(j,len(a)-k):\n",
    "            print(a[i][len(a[j])-k],end=' ')\n",
    "        for i in range(len(a[j])-k,j,-1):\n",
    "            print(a[len(a)-k][i],end=' ')\n",
    "        for i in range(len(a)-k,j,-1):\n",
    "            print(a[i][j],end=' ')\n",
    "        n=n-2\n",
    "        j=j+1\n",
    "        k=k+1\n",
    "    if(len(a)%2==1):\n",
    "        print(a[len(a)//2][len(a)//2],end=' ')\n",
    "spiralPattern([[1,2,3], [4,5,6], [7,8,9]])"
   ]
  },
  {
   "cell_type": "code",
   "execution_count": null,
   "metadata": {},
   "outputs": [],
   "source": []
  }
 ],
 "metadata": {
  "kernelspec": {
   "display_name": "Python 3",
   "language": "python",
   "name": "python3"
  },
  "language_info": {
   "codemirror_mode": {
    "name": "ipython",
    "version": 3
   },
   "file_extension": ".py",
   "mimetype": "text/x-python",
   "name": "python",
   "nbconvert_exporter": "python",
   "pygments_lexer": "ipython3",
   "version": "3.7.3"
  }
 },
 "nbformat": 4,
 "nbformat_minor": 2
}
