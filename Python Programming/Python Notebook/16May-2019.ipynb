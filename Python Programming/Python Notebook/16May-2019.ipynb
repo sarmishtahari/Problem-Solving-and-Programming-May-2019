{
 "cells": [
  {
   "cell_type": "markdown",
   "metadata": {},
   "source": [
    "## Problem Solving and Programming\n",
    "\n",
    "## SarmishtaHari\n",
    "\n",
    "#### Day No:-13\n",
    "#### Date:- 16-5-2019"
   ]
  },
  {
   "cell_type": "markdown",
   "metadata": {},
   "source": [
    "## Day Objectives:\n",
    "* Converting and Writing The Day13 Programs into Python\n",
    "* Complete the given Problems:\n",
    "* Functional Programming\n",
    "* File Handling / Data Processing\n",
    "* External Libraries"
   ]
  },
  {
   "cell_type": "markdown",
   "metadata": {},
   "source": [
    "## File Handling"
   ]
  },
  {
   "cell_type": "markdown",
   "metadata": {},
   "source": [
    "#### Problem 1:\n",
    "#### Problem Statement:\n",
    "Reading and Writing The Data Files"
   ]
  },
  {
   "cell_type": "code",
   "execution_count": 13,
   "metadata": {},
   "outputs": [
    {
     "data": {
      "text/plain": [
       "'Data in Line 1 \\n\\nData in Line 2\\n\\nData in Line 3'"
      ]
     },
     "execution_count": 13,
     "metadata": {},
     "output_type": "execute_result"
    }
   ],
   "source": [
    "def readFileData(filename):\n",
    "    f=open(filename,'r')\n",
    "    filedata=f.read()\n",
    "    \n",
    "    f.close()\n",
    "    return filedata\n",
    "readFileData('DataFiles/Data.txt')"
   ]
  },
  {
   "cell_type": "code",
   "execution_count": 8,
   "metadata": {},
   "outputs": [
    {
     "data": {
      "text/plain": [
       "'Data in Line 1 \\n'"
      ]
     },
     "execution_count": 8,
     "metadata": {},
     "output_type": "execute_result"
    }
   ],
   "source": [
    "def readFileData(filename):\n",
    "    f=open(filename,'r')\n",
    "    filedata=f.readline()\n",
    "    \n",
    "    f.close()\n",
    "    return filedata\n",
    "readFileData('DataFiles/Data.txt')"
   ]
  },
  {
   "cell_type": "code",
   "execution_count": 14,
   "metadata": {},
   "outputs": [
    {
     "name": "stdout",
     "output_type": "stream",
     "text": [
      "Data in Line 1 \n",
      "\n",
      "Data in Line 2\n",
      "\n",
      "Data in Line 3\n"
     ]
    }
   ],
   "source": [
    "def readFileData(filename):\n",
    "    with open(filename,'r')as f :\n",
    "        print(f.read())\n",
    "        return\n",
    "readFileData('DataFiles/Data.txt')"
   ]
  },
  {
   "cell_type": "code",
   "execution_count": 10,
   "metadata": {},
   "outputs": [],
   "source": [
    "def readFileData(filename):\n",
    "    with open(filename,'a') as f:\n",
    "        print(f.read())\n",
    "        return\n",
    "    \n",
    "def writeIntoFile(filename,data):\n",
    "    with open(filename,'w') as f:\n",
    "        f.write(data)\n",
    "        return\n",
    "writeIntoFile('DataFiles/fileWrite.txt','random sentence into the filewrite')   "
   ]
  },
  {
   "cell_type": "code",
   "execution_count": 12,
   "metadata": {},
   "outputs": [],
   "source": [
    "def readFileData(filename):\n",
    "    with open(filename,'a') as f:\n",
    "        print(f.read())\n",
    "        return\n",
    "    \n",
    "def writeFileData(filename):\n",
    "    with open(filename,'w') as f:\n",
    "        f.write(data)\n",
    "        return\n",
    "writeIntoFile('DataFiles/fileWrite1.txt','First Line \\n')        "
   ]
  },
  {
   "cell_type": "markdown",
   "metadata": {},
   "source": [
    "#### Problem 2:\n",
    "#### Problem Statement :\n",
    "Define a function to generate a Marks data file(text) for 1300 students such that each mark is entered in a new line .Marks range from 0 to 100(inclusive) as random numbers."
   ]
  },
  {
   "cell_type": "code",
   "execution_count": 8,
   "metadata": {},
   "outputs": [],
   "source": [
    "import random\n",
    "def generateMarksData(n,filename):\n",
    "    with open(filename,'w') as marksfile:\n",
    "        for i in range(0,n):\n",
    "            marks= random.randint(0,101)\n",
    "            marksfile.write(str(marks)+'\\n')\n",
    "    return       \n",
    "generateMarksData(1300,'DataFiles/marksdata.txt')"
   ]
  },
  {
   "cell_type": "markdown",
   "metadata": {},
   "source": [
    "#### Problem 3:\n",
    "#### Problem Statement :\n",
    "Generate a report on the marks data with the following indicators\n",
    "* Highest Marks:\n",
    "* Lowest  Marks:\n",
    "* Average Marks:\n",
    "* no.of students with distinction(>80):\n",
    "* no.of students with first class(>60):\n",
    "* no.of students with second class(>50): \n",
    "* no.of students with third class(>40):\n",
    "* no.of students with failed(<40):"
   ]
  },
  {
   "cell_type": "code",
   "execution_count": 53,
   "metadata": {},
   "outputs": [],
   "source": [
    "import random\n",
    "def readMarksFromFile(filename):\n",
    "    marks_li=[]\n",
    "    with open(filename,'r') as f:\n",
    "        for x in f:\n",
    "            marks_li.append(int(x))\n",
    "    writeMarksIntoFile('DataFiles/reportFile.txt',marks_li)\n",
    "    \n",
    "def writeMarksIntoFile(filename,arr):\n",
    "    dist=0\n",
    "    first=0\n",
    "    second=0\n",
    "    third=0\n",
    "    fail=0\n",
    "    with open(filename,'w') as reportFile:\n",
    "        reportFile.write(\"Highest is:\"+str(max(arr))+'\\n')\n",
    "        reportFile.write(\"lowest is:\"+str(min(arr))+'\\n')\n",
    "        for i in range(0,len(arr)):\n",
    "            if(arr[i]>=80):\n",
    "                dist=dist+1\n",
    "            elif(arr[i]>=60 and arr[i]<=80):  \n",
    "                first=first+1\n",
    "            elif(arr[i]>=50 and arr[i]<=60):  \n",
    "                second=second+1    \n",
    "            elif(arr[i]>=40 and arr[i]<=50):  \n",
    "                third=third+1 \n",
    "            else: \n",
    "                fail=fail+1\n",
    "        reportFile.write(\"Distinction:\"+str(dist)+'\\n')  \n",
    "        reportFile.write(\"First:\"  +str(first)+'\\n') \n",
    "        reportFile.write(\"second:\" +str(second)+'\\n') \n",
    "        reportFile.write(\"third:\"  +str(third)+'\\n') \n",
    "        reportFile.write(\"fail:\"   +str(fail)+'\\n') \n",
    "        return\n",
    "readMarksFromFile('DataFiles/marksdata.txt')       "
   ]
  },
  {
   "cell_type": "markdown",
   "metadata": {},
   "source": [
    "##  Functional Programming"
   ]
  },
  {
   "cell_type": "code",
   "execution_count": 51,
   "metadata": {},
   "outputs": [
    {
     "data": {
      "text/plain": [
       "'1'"
      ]
     },
     "execution_count": 51,
     "metadata": {},
     "output_type": "execute_result"
    }
   ],
   "source": [
    "li =[1,2,3,4,5,6]\n",
    "#s = str(li)\n",
    "s = list(map(str,li))\n",
    "s[0]"
   ]
  },
  {
   "cell_type": "code",
   "execution_count": 52,
   "metadata": {},
   "outputs": [
    {
     "data": {
      "text/plain": [
       "['1', '2', '3', '4', '5', '6']"
      ]
     },
     "execution_count": 52,
     "metadata": {},
     "output_type": "execute_result"
    }
   ],
   "source": [
    "li =[1,2,3,4,5,6]\n",
    "#s = str(li)\n",
    "s = list(map(str,li))\n",
    "s"
   ]
  },
  {
   "cell_type": "code",
   "execution_count": 35,
   "metadata": {},
   "outputs": [
    {
     "data": {
      "text/plain": [
       "[1, 4, 9, 1600, 25, 36]"
      ]
     },
     "execution_count": 35,
     "metadata": {},
     "output_type": "execute_result"
    }
   ],
   "source": [
    "def square(n):\n",
    "    return n * n\n",
    "li=[1,2,3,40,5,6]\n",
    "s=list(map(square,li))\n",
    "s"
   ]
  },
  {
   "cell_type": "code",
   "execution_count": 37,
   "metadata": {},
   "outputs": [
    {
     "data": {
      "text/plain": [
       "[1.0, 2.0, 3.0, 40.0, 5.0, 6.0]"
      ]
     },
     "execution_count": 37,
     "metadata": {},
     "output_type": "execute_result"
    }
   ],
   "source": [
    "def square(n):\n",
    "    return n * n\n",
    "li=[1,2,3,40,5,6]\n",
    "#s=str(li)\n",
    "s=list(map(str,li))\n",
    "s=[float(i) for i in s]\n",
    "s"
   ]
  },
  {
   "cell_type": "code",
   "execution_count": 56,
   "metadata": {},
   "outputs": [
    {
     "name": "stdout",
     "output_type": "stream",
     "text": [
      "0.0001724640005704714\n"
     ]
    },
    {
     "data": {
      "text/plain": [
       "[1.0, 2.0, 3.0, 40.0, 5.0, 6.0]"
      ]
     },
     "execution_count": 56,
     "metadata": {},
     "output_type": "execute_result"
    }
   ],
   "source": [
    "import timeit #timeit is used to generate the total time taken to execute the program\n",
    "def square(n):\n",
    "    return n * n\n",
    "st=timeit.default_timer()\n",
    "li=[1,2,3,40,5,6]\n",
    "#s=str(li)\n",
    "s=list(map(str,li))\n",
    "s=[float(i) for i in s]\n",
    "print(timeit.default_timer()-st)\n",
    "s"
   ]
  },
  {
   "cell_type": "markdown",
   "metadata": {},
   "source": [
    "## External Libraries"
   ]
  },
  {
   "cell_type": "code",
   "execution_count": 57,
   "metadata": {},
   "outputs": [
    {
     "name": "stdout",
     "output_type": "stream",
     "text": [
      "[0 1 2]\n"
     ]
    },
    {
     "data": {
      "text/plain": [
       "numpy.ndarray"
      ]
     },
     "execution_count": 57,
     "metadata": {},
     "output_type": "execute_result"
    }
   ],
   "source": [
    "import numpy as np #importing libraries\n",
    "a = np.array([0,1,2])\n",
    "\n",
    "print(a)\n",
    "type(a)"
   ]
  },
  {
   "cell_type": "code",
   "execution_count": 1,
   "metadata": {},
   "outputs": [
    {
     "name": "stdout",
     "output_type": "stream",
     "text": [
      "[[0 1 2]\n",
      " [3 4 5]]\n"
     ]
    },
    {
     "data": {
      "text/plain": [
       "numpy.ndarray"
      ]
     },
     "execution_count": 1,
     "metadata": {},
     "output_type": "execute_result"
    }
   ],
   "source": [
    "import numpy as np #importing libraries\n",
    "a = np.array([[0,1,2],[3,4,5]]) \n",
    "\n",
    "print(a)\n",
    "type(a)"
   ]
  },
  {
   "cell_type": "code",
   "execution_count": 2,
   "metadata": {},
   "outputs": [
    {
     "name": "stdout",
     "output_type": "stream",
     "text": [
      "matrix A\n",
      " [0 1 2]\n",
      "matrix B\n",
      " [3 4 5]\n"
     ]
    }
   ],
   "source": [
    "import numpy as np #importing libraries\n",
    "a= np.array([0,1,2])\n",
    "b=np.array([3,4,5])\n",
    "\n",
    "print(\"matrix A\\n\",a)\n",
    "print(\"matrix B\\n\",b)"
   ]
  }
 ],
 "metadata": {
  "kernelspec": {
   "display_name": "Python 3",
   "language": "python",
   "name": "python3"
  },
  "language_info": {
   "codemirror_mode": {
    "name": "ipython",
    "version": 3
   },
   "file_extension": ".py",
   "mimetype": "text/x-python",
   "name": "python",
   "nbconvert_exporter": "python",
   "pygments_lexer": "ipython3",
   "version": "3.7.3"
  }
 },
 "nbformat": 4,
 "nbformat_minor": 2
}
