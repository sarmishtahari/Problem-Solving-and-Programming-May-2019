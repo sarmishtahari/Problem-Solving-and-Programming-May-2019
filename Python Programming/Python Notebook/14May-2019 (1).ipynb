{
 "cells": [
  {
   "cell_type": "markdown",
   "metadata": {},
   "source": [
    "## Problem Solving and Programming\n",
    "\n",
    "## SarmishtaHari\n",
    "\n",
    "#### Day No:-11\n",
    "#### Date:- 14-5-2019\n"
   ]
  },
  {
   "cell_type": "markdown",
   "metadata": {},
   "source": [
    "#### Day Objectives:\n",
    "* Complete The given Hackathon Phase1"
   ]
  },
  {
   "cell_type": "markdown",
   "metadata": {},
   "source": [
    "## CODE MACHINES (Team-6)-HACKATHON"
   ]
  },
  {
   "cell_type": "markdown",
   "metadata": {},
   "source": [
    "#### Problem 1:\n",
    "#### Problem Statement:\n",
    "For a given integer N, find the total number of  Non - Prime Factors in the range (1, N) (both exclusive) that do not contain the digit 0\n",
    "### Test cases:\n",
    "* nonPrimeFactorsCount( 100 ) -> 2\n",
    "* nonPrimeFactorsCount( 50 )  ->  1\n"
   ]
  },
  {
   "cell_type": "code",
   "execution_count": 16,
   "metadata": {},
   "outputs": [
    {
     "name": "stdout",
     "output_type": "stream",
     "text": [
      "2\n",
      "1\n"
     ]
    }
   ],
   "source": [
    "import math\n",
    "def factors(n): # Main Fn\n",
    "    fact=[]\n",
    "    non=[]\n",
    "    p=[]\n",
    "    for i in range(2,n):\n",
    "        if(n%i==0):\n",
    "            fact.append(i)\n",
    "    for i in range(len(fact)):\n",
    "        if(nonzero(fact[i])):\n",
    "            non.append(fact[i])\n",
    "    for i in range(len(non)):\n",
    "        if(prime(non[i])):\n",
    "            p.append(non[i])\n",
    "    return (len(p))\n",
    "    \n",
    "def nonzero(k):       # checking if the number has zeroes\n",
    "    key=str(k)\n",
    "    for i in range(len(key)):\n",
    "        if key[i] in ['0']:\n",
    "            return False\n",
    "    return True\n",
    "def prime(n): # Checking if the number is prime\n",
    "    c=0\n",
    "    for i in range(2,n):\n",
    "        if(n%i==0):\n",
    "            c=c+1\n",
    "    if(c==0):\n",
    "        return False\n",
    "    else: \n",
    "        return True\n",
    "    \n",
    "\n",
    "print(factors(100))\n",
    "print(factors(50))        "
   ]
  },
  {
   "cell_type": "markdown",
   "metadata": {},
   "source": [
    "#### Problem 2:\n",
    "#### Problem Statement:\n",
    "For a given integer N. Find the least positive integer X made up of only 9's and 0's, such that, X is a multiple of N.\n",
    "X is made up of one or more occurrences of 9 and zero or more occurrences of 0.\n",
    "### Constraints:\n",
    "* the giiven \n",
    "### Test cases:\n",
    "* Multiple( 5 )  -> 90\n",
    "* Multiple ( 7 )  -> 9009\n",
    "* Multiple( 1 )  -> 9"
   ]
  },
  {
   "cell_type": "code",
   "execution_count": 17,
   "metadata": {},
   "outputs": [
    {
     "name": "stdout",
     "output_type": "stream",
     "text": [
      "90\n",
      "9009\n",
      "9\n"
     ]
    }
   ],
   "source": [
    "def Multiple(n):\n",
    "    i=n\n",
    "    for i in range(n,100000000000000000000):\n",
    "        if(i%n==0):\n",
    "            #print(i)\n",
    "            if(check(i)):\n",
    "                return i\n",
    "            i+i+1    \n",
    "def check(m):\n",
    "    key=str(m)\n",
    "    for i in range(len(key)):\n",
    "        if(key[i] not in ['0','9']):\n",
    "            return False\n",
    "    return True\n",
    "\n",
    "print(Multiple(5))\n",
    "print(Multiple(7))\n",
    "print(Multiple(1))"
   ]
  },
  {
   "cell_type": "code",
   "execution_count": null,
   "metadata": {},
   "outputs": [],
   "source": []
  }
 ],
 "metadata": {
  "kernelspec": {
   "display_name": "Python 3",
   "language": "python",
   "name": "python3"
  },
  "language_info": {
   "codemirror_mode": {
    "name": "ipython",
    "version": 3
   },
   "file_extension": ".py",
   "mimetype": "text/x-python",
   "name": "python",
   "nbconvert_exporter": "python",
   "pygments_lexer": "ipython3",
   "version": "3.7.3"
  }
 },
 "nbformat": 4,
 "nbformat_minor": 2
}
