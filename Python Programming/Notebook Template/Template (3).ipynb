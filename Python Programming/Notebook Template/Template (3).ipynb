{
 "cells": [
  {
   "cell_type": "markdown",
   "metadata": {},
   "source": [
    "#Problem Solving and Programming \n",
    "\n",
    "\n",
    "###Day No-5\n",
    "###Date-8-5-2019"
   ]
  },
  {
   "cell_type": "markdown",
   "metadata": {},
   "source": [
    "###Day Objective\n",
    "\n",
    "1.objective 1\n",
    "\n",
    "2.objective 2\n",
    "\n",
    "3.objective 3\n"
   ]
  },
  {
   "cell_type": "markdown",
   "metadata": {},
   "source": [
    "###Problem 1: \n",
    "\n",
    "####Problem statement \n",
    "\n",
    "###3Constraints \n",
    "\n",
    "####Test Cases\n",
    "\n",
    ".Test Case 1\n",
    "\n",
    ".Test Case 2\n",
    "\n",
    ".Test Case 3"
   ]
  }
 ],
 "metadata": {
  "kernelspec": {
   "display_name": "Python 3",
   "language": "python",
   "name": "python3"
  },
  "language_info": {
   "codemirror_mode": {
    "name": "ipython",
    "version": 3
   },
   "file_extension": ".py",
   "mimetype": "text/x-python",
   "name": "python",
   "nbconvert_exporter": "python",
   "pygments_lexer": "ipython3",
   "version": "3.7.3"
  }
 },
 "nbformat": 4,
 "nbformat_minor": 2
}
