{
 "cells": [
  {
   "cell_type": "markdown",
   "metadata": {},
   "source": [
    "## Problem Solving and Programming\n",
    "\n",
    "## SarmishtaHari\n",
    "\n",
    "#### Day No:-16\n",
    "#### Date:- 19-5-2019"
   ]
  },
  {
   "cell_type": "markdown",
   "metadata": {},
   "source": [
    "## Day Objectives:\n",
    "* Converting and Writing The 19May Programs into Python\n",
    "* Complete the given Problems:\n"
   ]
  },
  {
   "cell_type": "markdown",
   "metadata": {},
   "source": [
    "#### Problem 1:\n",
    "#### Problem Statement:\n",
    "Consider the following algorithm to generate a sequence of numbers. Start with an integer n. If n is even, divide by 2. If n is odd, multiply by 3 and add 1. Repeat this process with the new value of n, terminating when n = 1. For example, the following sequence of numbers will be generated for n = 22:\n",
    "\n",
    " 22 11 34 17 52 26 13 40 20 10 5 16 8 4 2 1\n",
    "\n",
    " It is conjectured (but not yet proven) that this algorithm will terminate at n = 1 for every integer n. Still, the conjecture holds for all integers up to at least 1, 000, 000.  For an input n, the cycle-length of n is the number of numbers generated up to and including the 1. In the example above, the cycle length of 22 is 16. Given any two numbers i and j, you are to determine the maximum cycle length over all numbers between i and j, including both endpoints."
   ]
  },
  {
   "cell_type": "code",
   "execution_count": 13,
   "metadata": {},
   "outputs": [
    {
     "data": {
      "text/plain": [
       "174"
      ]
     },
     "execution_count": 13,
     "metadata": {},
     "output_type": "execute_result"
    }
   ],
   "source": [
    "def cycleLength(n):\n",
    "    length = 1\n",
    "    while (n != 1):\n",
    "        if n % 2==0 :\n",
    "            n = n /2\n",
    "        else:\n",
    "            n = 3 * n + 1\n",
    "        length += 1\n",
    "    return length\n",
    "def mainSolution(i,j):\n",
    "    maxlen = 0\n",
    "    for k in range (i,j+1):\n",
    "        length =cycleLength(k)\n",
    "        if maxlen < length:\n",
    "            maxlen = length\n",
    "    return maxlen       \n",
    "mainSolution(900,1000)"
   ]
  },
  {
   "cell_type": "code",
   "execution_count": 14,
   "metadata": {},
   "outputs": [
    {
     "data": {
      "text/plain": [
       "174"
      ]
     },
     "execution_count": 14,
     "metadata": {},
     "output_type": "execute_result"
    }
   ],
   "source": [
    "def cycleLength(n):\n",
    "    length = 1\n",
    "    while (n != 1):\n",
    "        if n % 2==0 :\n",
    "            n = n /2\n",
    "        else:\n",
    "            n = 3 * n + 1\n",
    "        length += 1\n",
    "    return length\n",
    "def mainSolution(i,j):\n",
    "    return max(map(cycleLength,range(i,j+1)))      \n",
    "mainSolution(900,1000)"
   ]
  },
  {
   "cell_type": "code",
   "execution_count": 16,
   "metadata": {},
   "outputs": [
    {
     "data": {
      "text/plain": [
       "89"
      ]
     },
     "execution_count": 16,
     "metadata": {},
     "output_type": "execute_result"
    }
   ],
   "source": [
    "def cycleLength(n):\n",
    "    length = 1\n",
    "    while (n != 1):\n",
    "        if n % 2==0 :\n",
    "            n = n /2\n",
    "        else:\n",
    "            n = 3 * n + 1\n",
    "        length += 1\n",
    "    return length\n",
    "def mainSolution(i,j):\n",
    "    #return max(map(cycleLength,range(i,j+1)))   \n",
    "    lenlist =[cycleLength(k) for k in range (i,j+1)]\n",
    "    return max(lenlist)\n",
    "mainSolution(201,210)"
   ]
  },
  {
   "cell_type": "code",
   "execution_count": null,
   "metadata": {},
   "outputs": [],
   "source": []
  }
 ],
 "metadata": {
  "kernelspec": {
   "display_name": "Python 3",
   "language": "python",
   "name": "python3"
  },
  "language_info": {
   "codemirror_mode": {
    "name": "ipython",
    "version": 3
   },
   "file_extension": ".py",
   "mimetype": "text/x-python",
   "name": "python",
   "nbconvert_exporter": "python",
   "pygments_lexer": "ipython3",
   "version": "3.7.3"
  }
 },
 "nbformat": 4,
 "nbformat_minor": 2
}
