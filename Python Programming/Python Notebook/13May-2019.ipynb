{
 "cells": [
  {
   "cell_type": "markdown",
   "metadata": {},
   "source": [
    "## Problem Solving and Programming\n",
    "\n",
    "## SarmishtaHari\n",
    "\n",
    "#### Day No:-10\n",
    "#### Date:- 13-5-2019"
   ]
  },
  {
   "cell_type": "markdown",
   "metadata": {},
   "source": [
    "#### Day Objectives:Writing The May12th day  Programs into Python"
   ]
  },
  {
   "cell_type": "markdown",
   "metadata": {},
   "source": [
    "#### Problem 1:\n",
    "#### Problem Statement:\n",
    " You are given n words. Some words may repeat. For each word, output its number of occurrences. The output order should           correspond with the input order of appearance of the word. \n",
    "### Constraints:\n",
    "* First line of input contains the total number of words n. Next n lines contain words that need to processed.\n",
    "\n",
    "* First line of the output should contain the total number distinct words. Second line of output must contain the frequency of   words the same order of their appearance as in the input.\n",
    "### Test cases:\n",
    "-> Sample Input : 6\n",
    "\n",
    "  * abcd \n",
    "  \n",
    "  * ijkl\n",
    "  \n",
    "  * abcd\n",
    "  \n",
    "  * pqrs\n",
    "  \n",
    "  * abcd\n",
    "  \n",
    "  * ijkl\n",
    "  \n",
    "-> Sample Output: 3\n",
    "  *  3   2    1"
   ]
  },
  {
   "cell_type": "code",
   "execution_count": 2,
   "metadata": {},
   "outputs": [
    {
     "name": "stdout",
     "output_type": "stream",
     "text": [
      "5\n",
      "2 2 2 2 2 "
     ]
    }
   ],
   "source": [
    "def uniq_ele(le,b):\n",
    "    uni =[]\n",
    "    uni.append(b[0])\n",
    "    index = 0\n",
    "    for i in range(len(b)):\n",
    "        if(whether(b[i],uni)==True):\n",
    "            uni.append(b[i])\n",
    "    print(len(uni))\n",
    "    for i in range(len(uni)):\n",
    "            unic(uni[i],b)\n",
    "def whether(c,uni):\n",
    "    for j in range(len(uni)):\n",
    "        if(uni[j]==c):\n",
    "            return False\n",
    "        return True\n",
    "def unic(c,b):\n",
    "    frq = 0\n",
    "    for i in range(len(b)):\n",
    "        if(b[i] == c):\n",
    "            frq = frq+1   \n",
    "    print(frq, end=\" \")\n",
    "\n",
    "b = ['a','b','c','a','b','c']\n",
    "uniq_ele(len(b),b)"
   ]
  },
  {
   "cell_type": "markdown",
   "metadata": {},
   "source": [
    "#### Problem 2:\n",
    "#### Problem Statement:\n",
    "Define a function to validate email addresses based on the following rules.\n",
    "### Constraints:\n",
    "* Email should be in the format username@domain.extension\n",
    "* username must start with an alphabet and can contain lowercase alphabet, digits, hyphen(-) and underscores( _ ).\n",
    "* username must not contain special characters, uppercase letters, whitespaces.\n",
    "* Length of username must be in the range (6, 16)\n",
    "* Domain can only contain lowercase alphabet and digits with length in range (3, 10) . No special characters are allowed\n",
    "* Extension can only contain lower case alphabet and its length must be in the range (2, 4)\n",
    "\n",
    "->First line of input contains total number of email addresses n.  Next n lines contain  n email addresses.\n",
    "\n",
    "->Output must contain contain  n  lines with either 'Valid' or 'Invalid'\n",
    "### Test cases:\n",
    "-> Sample Input :  6\n",
    "\n",
    " * abc456@gmail.com\n",
    "\n",
    " * 456abc@yahoo.com\n",
    "\n",
    " * abc_456@gitam.ed1\n",
    "\n",
    " * abc-456@abc-d.in\n",
    "\n",
    " * python@python.edu\n",
    "\n",
    " *  abc 456@edu.edu\n",
    "\n",
    "->Sample Output :   Valid\n",
    "\n",
    " * Invalid\n",
    "\n",
    " * Invalid\n",
    "\n",
    " *  Invalid\n",
    "\n",
    " *   Valid\n",
    "\n",
    " *   Invalid\n",
    "\n"
   ]
  },
  {
   "cell_type": "code",
   "execution_count": 1,
   "metadata": {},
   "outputs": [
    {
     "name": "stdout",
     "output_type": "stream",
     "text": [
      "valid\n",
      "Invalid\n",
      "Invalid\n",
      "Invalid\n",
      "valid\n",
      "Invalid\n"
     ]
    }
   ],
   "source": [
    "def checkmail(li):\n",
    "    result=0\n",
    "    sym_list1=[chr(x) for x in range(58,64)]\n",
    "    sym_list2=[chr(x) for x in range(91,95)]\n",
    "    sym_list3=[chr(x) for x in range(46,48)]\n",
    "    sym_list4=[chr(x) for x in range(123,127)]\n",
    "    spl_list=[chr(x) for x in range(32,45)]\n",
    "    num_list=[1,2,3,4,5,6,7,8,9,0]\n",
    "    list1=[chr(x) for x in range(45,46)]\n",
    "    list2=[chr(x) for x in range(95,96)]\n",
    "    uname=li[0:li.index('@')]\n",
    "    domain=li[li.index('@')+1:li.index('.')]\n",
    "    ext=li[li.index('.')+1:len(li)]\n",
    "    for i in range(len(uname)):\n",
    "        if(uname[i] in list1):\n",
    "            result=result\n",
    "        elif(uname[i] in sym_list1 or uname[i] in sym_list2 or uname[i] in sym_list3 or uname[i] in sym_list4):\n",
    "            return False\n",
    "        elif uname[i] in spl_list:\n",
    "            return False\n",
    "    if(uname[0].islower() and len(uname)<=16 and len(uname)>=6 and uname.islower()):\n",
    "        result=1\n",
    "    else:\n",
    "        return False\n",
    "    for i in range(len(domain)):\n",
    "        if(domain[i].islower() and len(domain) in range(3,11)):\n",
    "            result=1\n",
    "        elif domain[i] in num_list:\n",
    "            return False\n",
    "        else:\n",
    "            return False\n",
    "    for i in range(len(ext)):\n",
    "        if(ext[i].islower() and len(ext) in range(2,5)):\n",
    "            result=1\n",
    "        else:\n",
    "            return False\n",
    "    if(result==1):\n",
    "        return True\n",
    "li=['abc456@gmail.com','456abc@yahoo.com','abc_456@gitam.ed1','abc-456@abc-d.in','python@python.edu','abc 456@edu.edu']\n",
    "for i in range(len(li)):\n",
    "    if(checkmail(li[i])):\n",
    "        print(\"valid\") \n",
    "    else:\n",
    "        print(\"Invalid\")"
   ]
  },
  {
   "cell_type": "code",
   "execution_count": null,
   "metadata": {},
   "outputs": [],
   "source": []
  }
 ],
 "metadata": {
  "kernelspec": {
   "display_name": "Python 3",
   "language": "python",
   "name": "python3"
  },
  "language_info": {
   "codemirror_mode": {
    "name": "ipython",
    "version": 3
   },
   "file_extension": ".py",
   "mimetype": "text/x-python",
   "name": "python",
   "nbconvert_exporter": "python",
   "pygments_lexer": "ipython3",
   "version": "3.7.3"
  }
 },
 "nbformat": 4,
 "nbformat_minor": 2
}
