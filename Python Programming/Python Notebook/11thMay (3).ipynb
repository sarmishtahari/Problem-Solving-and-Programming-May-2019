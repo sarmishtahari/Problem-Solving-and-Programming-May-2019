{
 "cells": [
  {
   "cell_type": "markdown",
   "metadata": {},
   "source": [
    "## Problem Solving and Programming\n",
    "\n",
    "## SarmishtaHari\n",
    "\n",
    "#### Day No:-10\n",
    "#### Date:- 11-5-2019\n"
   ]
  },
  {
   "cell_type": "markdown",
   "metadata": {},
   "source": [
    "### Day Objectives:Converting and Writing The  day10  Programs in Python code"
   ]
  },
  {
   "cell_type": "markdown",
   "metadata": {},
   "source": [
    "#### Problem 1:\n",
    "#### Problem Statement: \n",
    "Define a function to merge the characters of two strings alternatively. The remaining charactersof the longer string are printed in the same order at the end.\n",
    "#### Test cases\n",
    "* mergeString('abcd', 'abcd') -> 'aabbccdd'\n",
    "* mergeString('abc', '123456') -> 'a1b2c3456'\n",
    "* mergeString('0', '123456') -> '0123456'\n"
   ]
  },
  {
   "cell_type": "code",
   "execution_count": 65,
   "metadata": {},
   "outputs": [
    {
     "name": "stdout",
     "output_type": "stream",
     "text": [
      "aabbccdd\n",
      "a1b2c356\n",
      "013456\n"
     ]
    }
   ],
   "source": [
    " def merge_str(m,n):\n",
    "    x = len(m)\n",
    "    y = len(n)\n",
    "    z = ''\n",
    "    if(x>y):\n",
    "        for i in range(y):\n",
    "            z =z+m[i]   \n",
    "            z =z+n[i]\n",
    "        for i in range(y+1,x):  \n",
    "            z =z+m[i]\n",
    "    elif (x<y):\n",
    "        for i in range(x):\n",
    "            z =z+m[i]   \n",
    "            z =z+n[i]\n",
    "        for i in range(x+1,y):\n",
    "             z =z+n[i]\n",
    "    else:\n",
    "         for i in range (x):\n",
    "            z =z+m[i]\n",
    "            z =z+n[i]\n",
    "    return z \n",
    "\n",
    "print(merge_str('abcd', 'abcd'))\n",
    "print(merge_str('abc', '123456'))  \n",
    "print(merge_str('0', '123456'))  "
   ]
  },
  {
   "cell_type": "markdown",
   "metadata": {},
   "source": [
    "#### Problem 2:\n",
    "#### Problem Statement:\n",
    " Define a function to convert a binary number to the corresponding decimal number\n",
    "\n",
    "#### Test cases\n",
    "* binaryToDecimal(1100) -> 12\n",
    "* binaryToDecimal(1010) -> 10\n",
    "* binaryToDecimal(111000) -> 56"
   ]
  },
  {
   "cell_type": "code",
   "execution_count": 28,
   "metadata": {},
   "outputs": [
    {
     "name": "stdout",
     "output_type": "stream",
     "text": [
      "12\n",
      "10\n",
      "56\n"
     ]
    }
   ],
   "source": [
    "import math\n",
    "def binary_To_Decimal(n):\n",
    "    sum=0\n",
    "    size=len(str(n))\n",
    "    for i in range (0,size+1):\n",
    "        a=n%10\n",
    "        n=n//10\n",
    "        sum=sum+a*(2**i)\n",
    "    return sum\n",
    "print( binary_To_Decimal(1100))\n",
    "print( binary_To_Decimal(1010))\n",
    "print( binary_To_Decimal(111000))"
   ]
  },
  {
   "cell_type": "markdown",
   "metadata": {},
   "source": [
    "#### Problem 3:\n",
    "#### Problem Statement:\n",
    " Define a function to convert a decimal number to the corresponding binary number\n",
    "#### Test cases\n",
    "* decimalToBinary(15) -> 1111\n",
    "* decimalToBinary(1) -> 1"
   ]
  },
  {
   "cell_type": "code",
   "execution_count": 10,
   "metadata": {},
   "outputs": [],
   "source": [
    "def decimal_To_Binary(num):\n",
    "    if(num>1):\n",
    "        decimal_To_Binary(num//2)\n",
    "    print(num%2, end='')\n",
    "         \n",
    "    "
   ]
  },
  {
   "cell_type": "code",
   "execution_count": 12,
   "metadata": {},
   "outputs": [
    {
     "name": "stdout",
     "output_type": "stream",
     "text": [
      "Enter any decimal number: 15\n",
      "1111"
     ]
    }
   ],
   "source": [
    "num= int(input(\"Enter any decimal number: \"))\n",
    "decimal_To_Binary(15)"
   ]
  },
  {
   "cell_type": "markdown",
   "metadata": {},
   "source": [
    "#### Problem 4:\n",
    "#### Problem Statement:\n",
    " Define a function to check if a given year is a leap year. Returns a boolean value\n",
    "#### Test cases\n",
    "* 2000 -> True\n",
    "* 1900 -> False\n",
    "* 2012 -> True\n",
    "* 2020 -> True\n",
    "* 0200 -> False"
   ]
  },
  {
   "cell_type": "code",
   "execution_count": 27,
   "metadata": {},
   "outputs": [
    {
     "name": "stdout",
     "output_type": "stream",
     "text": [
      "True\n",
      "False\n",
      "True\n",
      "True\n",
      "False\n"
     ]
    }
   ],
   "source": [
    "def leapyear(n):\n",
    "      if(n % 4==0 and n % 100!=0 or n % 400==0):\n",
    "        return True\n",
    "      else:\n",
    "        return False   \n",
    "print(leapyear(2000))  \n",
    "print(leapyear(1900))\n",
    "print(leapyear(2012))\n",
    "print(leapyear(2020))\n",
    "print(leapyear( 200))"
   ]
  },
  {
   "cell_type": "markdown",
   "metadata": {},
   "source": [
    "#### Problem 5:\n",
    "#### Problem Statement:\n",
    "Define a function to identify the number of times a substring is repeating in a given string\n",
    "#### Test cases\n",
    "* substringCount('str','substr')->1\n",
    "* substringCount('1234567891122334455','3')->3\n",
    "* substringCount('abccddccc','cc')->3"
   ]
  },
  {
   "cell_type": "code",
   "execution_count": 18,
   "metadata": {},
   "outputs": [
    {
     "name": "stdout",
     "output_type": "stream",
     "text": [
      "1\n",
      "3\n"
     ]
    }
   ],
   "source": [
    "def substringCount(str,substr):\n",
    "    if(len(str)>len(substr)):\n",
    "        return str.count(substr)\n",
    "    return substr.count(str)\n",
    "print(substringCount('str','substr'))\n",
    "print(substringCount('1234567891122334455','3'))\n",
    "\n",
    "#working only for first 2 testcases"
   ]
  },
  {
   "cell_type": "code",
   "execution_count": 22,
   "metadata": {},
   "outputs": [
    {
     "name": "stdout",
     "output_type": "stream",
     "text": [
      "1\n",
      "3\n",
      "3\n",
      "5\n"
     ]
    }
   ],
   "source": [
    "#Another code\n",
    "def substringCount(str1,str2):\n",
    "    count=0\n",
    "    if(len(str1)>len(str2)):\n",
    "        a=str1\n",
    "        b=str2\n",
    "    else:\n",
    "        a=str2\n",
    "        b=str1\n",
    "    for i in range(len(a)):\n",
    "        if b in a[i:i+len(b)]:\n",
    "            count=count+1\n",
    "    return count\n",
    "print(substringCount('str','substr'))\n",
    "print(substringCount('1234567891122334455', '3'))\n",
    "print(substringCount('abccddccc', 'cc'))\n",
    "print(substringCount('aaaaaaa','aaa'))"
   ]
  },
  {
   "cell_type": "markdown",
   "metadata": {},
   "source": [
    "#### Problem 6:\n",
    "#### Problem Statement:\n",
    "Design a Python script to determine the difference in date for given two dates in YYYY:MM:DD format(0 <= YYYY <= 9999, 1 <= MM <= 12, 1 <= DD <= 31) following the leap year rules. Return the total number of days existing between the two dates.\n",
    "#### Test cases\n",
    "* dateDifference('2019:05:10', '2019:05:01') -> 9\n",
    "* dateDifference('0003:03:03', '0003:06:06') -> 95"
   ]
  },
  {
   "cell_type": "code",
   "execution_count": 7,
   "metadata": {},
   "outputs": [
    {
     "name": "stdout",
     "output_type": "stream",
     "text": [
      "9\n",
      "95\n"
     ]
    }
   ],
   "source": [
    "\n",
    "def dateDifference(str1,str2):\n",
    "    count=0\n",
    "    y1=int(str1[0:4])\n",
    "    y2=int(str2[0:4])\n",
    "    m1=int(str1[5:7])\n",
    "    m2=int(str2[5:7])\n",
    "    d1=int(str1[8:10])\n",
    "    d2=int(str2[8:10])\n",
    "    for i in range(y1,y2):\n",
    "        if(i%4==0 and i%100!=0 or i%400==0):\n",
    "            count=count+1\n",
    "    for i in range(m1,m2):\n",
    "        if i in [1,3,5,7,8,10,12]:\n",
    "            count=count+1\n",
    "        elif i==2:\n",
    "            count=count-2\n",
    "    days=abs(d1-d2)\n",
    "    days=days+abs(m1-m2)*30\n",
    "    days=days+abs(y1-y2)*365\n",
    "    days=days+count\n",
    "    return days\n",
    "print(dateDifference('2019:05:10', '2019:05:01'))\n",
    "print(dateDifference('0003:03:03', '0003:06:06'))\n"
   ]
  },
  {
   "cell_type": "code",
   "execution_count": null,
   "metadata": {},
   "outputs": [],
   "source": []
  }
 ],
 "metadata": {
  "kernelspec": {
   "display_name": "Python 3",
   "language": "python",
   "name": "python3"
  },
  "language_info": {
   "codemirror_mode": {
    "name": "ipython",
    "version": 3
   },
   "file_extension": ".py",
   "mimetype": "text/x-python",
   "name": "python",
   "nbconvert_exporter": "python",
   "pygments_lexer": "ipython3",
   "version": "3.7.3"
  }
 },
 "nbformat": 4,
 "nbformat_minor": 2
}
