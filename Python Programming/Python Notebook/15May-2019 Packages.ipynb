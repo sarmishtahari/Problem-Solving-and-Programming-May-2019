{
 "cells": [
  {
   "cell_type": "markdown",
   "metadata": {},
   "source": [
    "## Problem Solving and Programming\n",
    "\n",
    "## SarmishtaHari\n",
    "\n",
    "#### Day No:-12\n",
    "#### Date:- 15-5-2019\n"
   ]
  },
  {
   "cell_type": "markdown",
   "metadata": {},
   "source": [
    "### Day Objectives:\n",
    "* Converting and Writing The Day 12Programs into Python\n",
    "* Complete the given Problems:\n",
    " -> Packages\n",
    " -> Sub Packages\n",
    " -> Regular Expressions\n",
    " -> Iterators in python"
   ]
  },
  {
   "cell_type": "markdown",
   "metadata": {},
   "source": [
    "#### Problem 1:\n",
    "#### Problem Statement:\n",
    "Define a function that take an array of integers A, and an integer K and returns the longest possible sub-set of A i.e A' such that the sum of no two elements in A' is divisible by K.\n",
    "### Constraints:\n",
    "->First line in input contains the length of A and the integer K. Second line of input contains len(A) space-separated integers.\n",
    "\n",
    "->Output must contain the length of A' list\n",
    "### Test cases:\n",
    "* Sample Input :    4  3\n",
    "*  1 7 2  4\n",
    "* Sample Output : 3"
   ]
  },
  {
   "cell_type": "code",
   "execution_count": 1,
   "metadata": {},
   "outputs": [
    {
     "name": "stdout",
     "output_type": "stream",
     "text": [
      "4 3\n",
      "[1, 7, 2, 4]\n",
      "3\n"
     ]
    }
   ],
   "source": [
    "def arr_of_func(n,m):\n",
    "    sub = [ ]\n",
    "    sub.append(n[0])\n",
    "    print(len(n),m)\n",
    "    print(n)\n",
    "    for i in range(1,len(n)):\n",
    "        if(checksub(n[i],sub,m)):\n",
    "            sub.append(n[i])\n",
    "    print(len(sub))\n",
    "def checksub(o,sub,m):\n",
    "    for i in range(len(sub)):\n",
    "        if(((o+sub[i])%m)==0):\n",
    "            return False\n",
    "    return True\n",
    "    \n",
    "n = [1,7,2,4]\n",
    "arr_of_func(n,3)"
   ]
  },
  {
   "cell_type": "markdown",
   "metadata": {},
   "source": [
    "#### Problem 2:\n",
    "#### Problem Statement:\n",
    "Design a Python script to determine the difference in date for given two dates in YYYY:MM:DD format(0 <= YYYY <= 9999, 1 <= MM <= 12, 1 <= DD <= 31) following the leap year rules. Return the total number of days existing between the two dates.\n",
    "\n",
    "#### Explaination:\n",
    "calculate the month difference and subtract difference\n",
    "### Testcases:\n",
    "* dateDifference('2019:05:10', '2019:05:01') -> 9\n",
    "* dateDifference('0003:03:03', '0003:06:06') -> 95\n",
    "* dateDifference('0001:01:31', '0002:01:31') -> 366"
   ]
  },
  {
   "cell_type": "code",
   "execution_count": 3,
   "metadata": {},
   "outputs": [
    {
     "data": {
      "text/plain": [
       "9"
      ]
     },
     "execution_count": 3,
     "metadata": {},
     "output_type": "execute_result"
    }
   ],
   "source": [
    "#Another Code\n",
    "def datedifference(date1,date2):\n",
    "    if yearfromdate(date1) == yearfromdate(date2):\n",
    "        return abs(totaldaysdate(date1) - totaldaysdate(date2))\n",
    "    elif yearfromdate(date2) - yearfromdate(date1) == 1:\n",
    "        return totalDaysDateEndYear(date1) + totaldaysdate(date2)\n",
    "    else:\n",
    "        sum = totalDaysDateEndYear(date1) + totaldaysdate(date2)\n",
    "        year1 = yearfromdate(date1)\n",
    "        year2 = yearfromdate(date2)\n",
    "        for i in range(year+1, year2):\n",
    "            sum += numdaysinyear(i)\n",
    "        return sum\n",
    "def dateinFeb(n):\n",
    "    if (n%4==0 and n%100!=0 or n%400==0):\n",
    "        return 29\n",
    "    return 28\n",
    "def numdaysinmonth(month,year):\n",
    "    monthDays = {'01':31, '03':31, '04':30, '05':31, '06':30, '07':31, '08':31, '09':30, '10':31, '11':30, '12':31 }\n",
    "    if(month == 2):\n",
    "        return dateinFeb(year)\n",
    "    elif (month < 7 and month !=2 and month % 2 == 0) or (month>7 and month % 2 != 0):\n",
    "        return 30   \n",
    "    else:\n",
    "        return 31\n",
    "def numdaysinyear(year):\n",
    "    if dateinFeb(year) == 29:\n",
    "         return 366\n",
    "    return 365\n",
    "#this function returns total number of days completed till the given date\n",
    "def totaldaysdate(date):\n",
    "    year = yearfromdate(date)\n",
    "    month =monthfromdate(date) \n",
    "    day = daysfromdate(date)\n",
    "    sum = 0\n",
    "    for i in range(1, month):\n",
    "        sum += numdaysinmonth(i, year)\n",
    "    sum += ( day)\n",
    "    return sum\n",
    "def totalDaysDateEndYear(date):\n",
    "    year = yearfromdate(date)\n",
    "    month =monthfromdate(date) \n",
    "    day = daysfromdate(date)\n",
    "    sum=0\n",
    "    for i in range( month+1,13):\n",
    "        sum += numdaysinmonth(i, year)\n",
    "    sum += (numdaysinmonth(month,year)- day +1)\n",
    "    return sum\n",
    "def  yearfromdate(date):\n",
    "    return int(int(date[:4]))\n",
    "def monthfromdate(date):\n",
    "    return int( int(date[5:7]))\n",
    "def daysfromdate(date):\n",
    "    return(int(date[len(date)-2:]))\n",
    "#datedifference('0001:01:31', '0002:01:31')\n",
    "#datedifference('0003:03:03', '0003:06:06')\n",
    "datedifference('2019:05:10', '2019:05:01')"
   ]
  },
  {
   "cell_type": "markdown",
   "metadata": {},
   "source": [
    "#### Problem 3:\n",
    "#### Problem Statement:\n",
    " Define a function to find the average of all the outer elements of an N x M matrix.\n",
    "### Test cases:\n",
    "* averageOuterMatrix([[1, 2, 3], [4, 5, 6], [7, 8, 9], [10, 11, 12]] -> 4.5\n"
   ]
  },
  {
   "cell_type": "code",
   "execution_count": 3,
   "metadata": {},
   "outputs": [
    {
     "name": "stdout",
     "output_type": "stream",
     "text": [
      "1 2 3 6 9 12 11 10 7 4 "
     ]
    }
   ],
   "source": [
    "#Another code\n",
    "def rowPrint(a, r, rs, nc):\n",
    "    for i in range(rs, nc):\n",
    "        print(a[r][i], end=' ')   \n",
    "def columnPrint(a, c, cs, nr):\n",
    "    for i in range(cs, nr):\n",
    "        print(a[i][c], end=' ')\n",
    "def reverseRowPrint(a, r,rs, nc):\n",
    "    for i in range(nc-rs-1, -1, -1):\n",
    "        print(a[r][i], end=' ')\n",
    "        \n",
    "def reverseColumnPrint(a,c, cs, cstp, nr):\n",
    "    for i in range(nr-1-cs, cstp,-1):\n",
    "        print(a[i][c], end=' ')       \n",
    "def outermatrix(m1, nr, nc):\n",
    "    rowPrint(m1, 0, 0, nc)\n",
    "    columnPrint(m1, nc-1, 1, nr)\n",
    "    reverseRowPrint(m1, nr-1, nc-2, nc)\n",
    "    reverseColumnPrint(m1, 0, nr-3,0, nr)       \n",
    "m1 = [[1,2,3],[4,5,6],[7,8,9],[10,11,12]]\n",
    "#rowPrint(m1,0,2)\n",
    "#columnPrint(m1,2,3)\n",
    "#reverseRowPrint(m1,2,3)\n",
    "#reverseColumnPrint(m1,0,1,3)\n",
    "outermatrix(m1,4,3)\n"
   ]
  },
  {
   "cell_type": "code",
   "execution_count": null,
   "metadata": {},
   "outputs": [],
   "source": [
    "\n"
   ]
  },
  {
   "cell_type": "markdown",
   "metadata": {},
   "source": [
    "# Packages and Modules\n",
    "\n",
    "* Package - Collection of Python Scripts  (.py)\n",
    "* Sub-package-Package inside another Package\n",
    "* Module - A Python Script "
   ]
  },
  {
   "cell_type": "code",
   "execution_count": 26,
   "metadata": {},
   "outputs": [
    {
     "data": {
      "text/plain": [
       "360"
      ]
     },
     "execution_count": 26,
     "metadata": {},
     "output_type": "execute_result"
    }
   ],
   "source": [
    "from PythonScript.PythonScripts.test import factorial \n",
    "factorial(6)"
   ]
  },
  {
   "cell_type": "code",
   "execution_count": 23,
   "metadata": {
    "scrolled": true
   },
   "outputs": [
    {
     "data": {
      "text/plain": [
       "181440"
      ]
     },
     "execution_count": 23,
     "metadata": {},
     "output_type": "execute_result"
    }
   ],
   "source": [
    "from  PythonScript.PythonScripts.test import factorial\n",
    "factorial(9)"
   ]
  },
  {
   "cell_type": "markdown",
   "metadata": {},
   "source": [
    "## Sub Packages"
   ]
  },
  {
   "cell_type": "markdown",
   "metadata": {},
   "source": [
    "#### package inside the another package:"
   ]
  },
  {
   "cell_type": "code",
   "execution_count": 15,
   "metadata": {},
   "outputs": [
    {
     "data": {
      "text/plain": [
       "'nohtyP'"
      ]
     },
     "execution_count": 15,
     "metadata": {},
     "output_type": "execute_result"
    }
   ],
   "source": [
    "from PythonScript.PythonScripts.StringFunction import reversestring\n",
    "reversestring('Python')"
   ]
  },
  {
   "cell_type": "code",
   "execution_count": 17,
   "metadata": {},
   "outputs": [
    {
     "data": {
      "text/plain": [
       "'Pto'"
      ]
     },
     "execution_count": 17,
     "metadata": {},
     "output_type": "execute_result"
    }
   ],
   "source": [
    "from PythonScript.PythonScripts.StringFunction import alternativecharacter\n",
    "alternativecharacter('Python')"
   ]
  },
  {
   "cell_type": "markdown",
   "metadata": {},
   "source": [
    "## Regular Expressions"
   ]
  },
  {
   "cell_type": "code",
   "execution_count": 15,
   "metadata": {},
   "outputs": [
    {
     "name": "stdout",
     "output_type": "stream",
     "text": [
      "Match\n"
     ]
    }
   ],
   "source": [
    "import re\n",
    "pattern ='^g.....$'\n",
    "domain = 'google'\n",
    "if re.match(pattern,domain):\n",
    "    print('Match')\n",
    "else:\n",
    "    print('Does not Match')\n",
    "    "
   ]
  },
  {
   "cell_type": "code",
   "execution_count": 16,
   "metadata": {},
   "outputs": [
    {
     "name": "stdout",
     "output_type": "stream",
     "text": [
      "Does not Match\n"
     ]
    }
   ],
   "source": [
    "import re\n",
    "pattern ='^gm....$'\n",
    "domain = 'google'\n",
    "if re.match(pattern,domain):\n",
    "    print('Match')\n",
    "else:\n",
    "    print('Does not Match')\n",
    "    "
   ]
  },
  {
   "cell_type": "code",
   "execution_count": 5,
   "metadata": {},
   "outputs": [
    {
     "name": "stdout",
     "output_type": "stream",
     "text": [
      "Match\n"
     ]
    }
   ],
   "source": [
    "import re\n",
    "\n",
    "postalCodePattern = '^[1-9][0-9]{5}$'\n",
    "\n",
    "code = '500045'\n",
    "\n",
    "if re.match(postalCodePattern,code):\n",
    "    print('Match')\n",
    "else:\n",
    "    print('Does not Match')"
   ]
  },
  {
   "cell_type": "code",
   "execution_count": 7,
   "metadata": {},
   "outputs": [
    {
     "name": "stdout",
     "output_type": "stream",
     "text": [
      "Does not Match\n"
     ]
    }
   ],
   "source": [
    "pattern='^[+]91[6-9][0-9][9]$'#validate the indian phone numbers\n",
    "domain = '+916439764549'\n",
    "if re.match(pattern,domain):\n",
    "    print('Match')\n",
    "else:\n",
    "    print('Does not Match')\n",
    "    "
   ]
  },
  {
   "cell_type": "code",
   "execution_count": 17,
   "metadata": {},
   "outputs": [
    {
     "name": "stdout",
     "output_type": "stream",
     "text": [
      "Does not Match\n"
     ]
    }
   ],
   "source": [
    "pattern='^[6-9][0-9][9]$'#validate the  phone numbers\n",
    "domain = '+916439764549'\n",
    "if re.match(pattern,domain):\n",
    "    print('Match')\n",
    "else:\n",
    "    print('Does not Match')\n",
    "    "
   ]
  },
  {
   "cell_type": "code",
   "execution_count": 8,
   "metadata": {},
   "outputs": [
    {
     "name": "stdout",
     "output_type": "stream",
     "text": [
      "valid\n"
     ]
    }
   ],
   "source": [
    "import re \n",
    "emailpattern='^[a-z][a-z0-9_.-]{5,13}[a-z0-9][@][0-9a-z]{3,9}[.][a-z]{2,3}$'\n",
    "email='hsarmishta.s@gmail.com'\n",
    "if re.match(emailpattern,email):\n",
    "    print('valid')\n",
    "else:\n",
    "    print('not valid')"
   ]
  },
  {
   "cell_type": "code",
   "execution_count": 15,
   "metadata": {},
   "outputs": [
    {
     "name": "stdout",
     "output_type": "stream",
     "text": [
      "Match\n"
     ]
    }
   ],
   "source": [
    "pattern = '^[a-z]{2,9}$'\n",
    "\n",
    "domain = 'gmail'\n",
    "if re.match(pattern,domain):\n",
    "    print('Match')\n",
    "else:\n",
    "    print('Does not Match')"
   ]
  },
  {
   "cell_type": "code",
   "execution_count": 10,
   "metadata": {},
   "outputs": [
    {
     "name": "stdout",
     "output_type": "stream",
     "text": [
      "Does not Match\n"
     ]
    }
   ],
   "source": [
    "pattern ='^[a-z][2]$'\n",
    "domain = 'zzzzz'\n",
    "if re.match(pattern,domain):\n",
    "    print('Match')\n",
    "else:\n",
    "    print('Does not Match')\n",
    "    "
   ]
  },
  {
   "cell_type": "code",
   "execution_count": 18,
   "metadata": {},
   "outputs": [
    {
     "name": "stdout",
     "output_type": "stream",
     "text": [
      "Does not Match\n"
     ]
    }
   ],
   "source": [
    "pattern='^[a-z0-9][5]$'\n",
    "domain ='py_123'\n",
    "if re.match(pattern,domain):\n",
    "    print('Match')\n",
    "else:\n",
    "    print('Does not Match')\n",
    "    "
   ]
  },
  {
   "cell_type": "markdown",
   "metadata": {},
   "source": [
    "### Iterators in python:\n",
    " Lists,Tuples,Strings"
   ]
  },
  {
   "cell_type": "code",
   "execution_count": 6,
   "metadata": {},
   "outputs": [
    {
     "name": "stdout",
     "output_type": "stream",
     "text": [
      "1\n",
      "2\n",
      "3\n",
      "4\n",
      "5\n",
      "6\n",
      "1\n",
      "2\n",
      "3\n",
      "4\n",
      "5\n",
      "6\n"
     ]
    }
   ],
   "source": [
    "li=[1,2,3,4,5,6]\n",
    "for i in li:\n",
    "    print(i)\n",
    "type(it)\n",
    "it =iter(li)\n",
    "for i in li:\n",
    "    print(i)\n",
    "\n",
    "\n"
   ]
  },
  {
   "cell_type": "code",
   "execution_count": 7,
   "metadata": {},
   "outputs": [
    {
     "name": "stdout",
     "output_type": "stream",
     "text": [
      "1\n",
      "2\n",
      "3\n",
      "4\n",
      "5\n",
      "6\n"
     ]
    },
    {
     "data": {
      "text/plain": [
       "1"
      ]
     },
     "execution_count": 7,
     "metadata": {},
     "output_type": "execute_result"
    }
   ],
   "source": [
    "li=[1,2,3,4,5,6]\n",
    "for i in li:\n",
    "    print(i)\n",
    "type(it)\n",
    "it =iter(li)\n",
    "next(it)"
   ]
  },
  {
   "cell_type": "markdown",
   "metadata": {},
   "source": [
    "#### Generators in Python:\n"
   ]
  },
  {
   "cell_type": "code",
   "execution_count": 9,
   "metadata": {},
   "outputs": [
    {
     "data": {
      "text/plain": [
       "2025"
      ]
     },
     "execution_count": 9,
     "metadata": {},
     "output_type": "execute_result"
    }
   ],
   "source": [
    "li = [i** 3 for i in range (1,10)]\n",
    "li\n",
    "\n",
    "\n",
    "sum(li)"
   ]
  },
  {
   "cell_type": "code",
   "execution_count": 16,
   "metadata": {},
   "outputs": [
    {
     "name": "stdout",
     "output_type": "stream",
     "text": [
      "1827641252163435127291000"
     ]
    }
   ],
   "source": [
    "li =[i**3 for i in range (1,10)]\n",
    "li\n",
    "gn =(i**3 for i in range(1,11)) \n",
    "for i in gn:\n",
    "    print(i,end ='')"
   ]
  },
  {
   "cell_type": "code",
   "execution_count": null,
   "metadata": {},
   "outputs": [],
   "source": []
  }
 ],
 "metadata": {
  "kernelspec": {
   "display_name": "Python 3",
   "language": "python",
   "name": "python3"
  }
 },
 "nbformat": 4,
 "nbformat_minor": 2
}
