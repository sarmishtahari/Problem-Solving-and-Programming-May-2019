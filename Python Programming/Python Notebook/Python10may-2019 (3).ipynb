{
 "cells": [
  {
   "cell_type": "markdown",
   "metadata": {},
   "source": [
    "## Problem Solving and Programming\n",
    "\n",
    "## SarmishtaHari\n",
    "\n",
    "#### Day No:-7\n",
    "#### Date:- 10-5-2019\n"
   ]
  },
  {
   "cell_type": "markdown",
   "metadata": {},
   "source": [
    "#### Day Objectives:Converting and Writing The Day5 and Day6 Programs into Python"
   ]
  },
  {
   "cell_type": "markdown",
   "metadata": {},
   "source": [
    "#### Problem 1:\n",
    "#### Problem Statement:\n",
    "Design a procedure to determine if a given string is a Palindrome\n",
    "\n",
    "#### Test cases\n",
    "* Palindrome(\"racecar\") -> True\n",
    "* Palindrome(\"raptor\") -> False"
   ]
  },
  {
   "cell_type": "code",
   "execution_count": 1,
   "metadata": {},
   "outputs": [
    {
     "name": "stdout",
     "output_type": "stream",
     "text": [
      "enter string :racecar\n",
      "True\n"
     ]
    }
   ],
   "source": [
    "string=input(\"enter string :\")\n",
    "if(string == string[len(string)-1::-1]):\n",
    "    print(\"True\")\n",
    "else:\n",
    "    print(\"False\")"
   ]
  },
  {
   "cell_type": "markdown",
   "metadata": {},
   "source": [
    "#### Problem 2:\n",
    "#### Problem Statement:\n",
    "Design a procedure to calculate the squareroot of a number \"without using the math function sqrt\".\n",
    "\n",
    "#### Constraints\n",
    "  given number will be in range[1,10000000000000]\n",
    "  \n",
    "#### Test cases\n",
    "* Squareroot(25) -> 5\n",
    "* Squareroot(36) -> 6\n",
    "* Squareroot(100) -> 10"
   ]
  },
  {
   "cell_type": "code",
   "execution_count": 3,
   "metadata": {},
   "outputs": [
    {
     "name": "stdout",
     "output_type": "stream",
     "text": [
      "5.0\n",
      "6.0\n",
      "10.0\n"
     ]
    }
   ],
   "source": [
    "def Squareroot(n):\n",
    "    for i in range (1,n**2):\n",
    "        s=pow(n,0.5)\n",
    "    return s\n",
    "print(Squareroot(25))\n",
    "print(Squareroot(36))\n",
    "print(Squareroot(100))"
   ]
  },
  {
   "cell_type": "markdown",
   "metadata": {},
   "source": [
    "#### Problem 3:\n",
    "#### Problem Statement:\n",
    "Design a procedure to perform Linear search on list of N unsorted unique numbers. It take an array and the key element to be searched and returns the index of the element of key element if found. Else returns -1\n",
    "\n",
    "#### Test Cases\n",
    "* LinearSearch([1,4,8,0,3,5,6], 3)->4\n",
    "* LinearSearch([15,12,9,6,3,-3],0)->-1\n",
    "* LinearSearch([321,543,567,789,],567)->2"
   ]
  },
  {
   "cell_type": "code",
   "execution_count": 2,
   "metadata": {},
   "outputs": [
    {
     "data": {
      "text/plain": [
       "2"
      ]
     },
     "execution_count": 2,
     "metadata": {},
     "output_type": "execute_result"
    }
   ],
   "source": [
    "def linearSearch(a,key):\n",
    "    for i in range (0,len(a)):\n",
    "        if(a[i]==key):\n",
    "            return i\n",
    "    return -1 \n",
    "linearSearch([15,12,9,6,3,-3],0)\n",
    "linearSearch([321,543,567,789,],567)  "
   ]
  },
  {
   "cell_type": "markdown",
   "metadata": {},
   "source": [
    "#### Problem 4:\n",
    "#### Problem Statement:\n",
    "Designing a procedure to sort a given array in ascending order \n",
    "#### Constraints\n",
    "given number will be in range [1,10000000000]\n",
    "#### Test cases\n",
    "* sort([3, 2, 1, 4, 4, 5, 6]) -> [1, 2, 3, 4, 4, 5, 6]\n",
    "* sort([1, 2, 3]) -> [1, 2, 3]\n"
   ]
  },
  {
   "cell_type": "code",
   "execution_count": 5,
   "metadata": {},
   "outputs": [
    {
     "name": "stdout",
     "output_type": "stream",
     "text": [
      "[1, 2, 3, 4, 4, 5, 6]\n",
      "[1, 2, 3]\n"
     ]
    }
   ],
   "source": [
    "def sorting(n):\n",
    "    n.sort()\n",
    "    return n\n",
    "print(sorting([3, 2, 1, 4, 4, 5, 6]))\n",
    "print(sorting([1,2,3]))"
   ]
  },
  {
   "cell_type": "markdown",
   "metadata": {},
   "source": [
    "#### Problem 5:\n",
    "#### Problem Statement:\n",
    "Design a procedure calculate the maximum, minimum and average of N numbers\n",
    "#### Constraints\n",
    "given number will be in range [1,10000000000]\n",
    "#### Test cases\n",
    "* a[1,2,3,4,5]-> Max=7\n",
    "* a[2,3,4,5,6,7]->min=2\n",
    "* a[2,3,4,5,6,7]->avg=4.5"
   ]
  },
  {
   "cell_type": "code",
   "execution_count": 11,
   "metadata": {},
   "outputs": [
    {
     "name": "stdout",
     "output_type": "stream",
     "text": [
      "maximum  7\n",
      "minimum  2\n",
      "average  4.5\n"
     ]
    }
   ],
   "source": [
    "def maxminavg(a,n):\n",
    "\n",
    "    print(\"maximum \",max(a))\n",
    "    print(\"minimum \",min(a))\n",
    "    print(\"average \",sum(a)/n)\n",
    "maxminavg([2,3,4,5,6,7],6)"
   ]
  },
  {
   "cell_type": "markdown",
   "metadata": {},
   "source": [
    "#### Problem 6:\n",
    "#### Problem Statement:\n",
    "Generate multiplication tables.\n",
    "#### Test cases:\n",
    "* MT(3, 5, 7) -> 3 X 5 = 15"
   ]
  },
  {
   "cell_type": "code",
   "execution_count": 3,
   "metadata": {},
   "outputs": [
    {
     "name": "stdout",
     "output_type": "stream",
     "text": [
      "Enter the number: 3\n",
      "3 X 1 = 3\n",
      "3 X 2 = 6\n",
      "3 X 3 = 9\n",
      "3 X 4 = 12\n",
      "3 X 5 = 15\n",
      "3 X 6 = 18\n",
      "3 X 7 = 21\n",
      "3 X 8 = 24\n",
      "3 X 9 = 27\n",
      "3 X 10 = 30\n"
     ]
    }
   ],
   "source": [
    "num = int(input(\"Enter the number: \"))\n",
    "\n",
    "for i in range(1, 11):\n",
    "   print(num,\"X\",i,\"=\",num * i)"
   ]
  },
  {
   "cell_type": "markdown",
   "metadata": {},
   "source": [
    "#### Problem 7:\n",
    "#### Problem Statement:\n",
    "Factorial of a given number\n",
    "#### Test cases:\n",
    "* Factorial(5) -> 120\n",
    "* Factorial (6) -> 720\n"
   ]
  },
  {
   "cell_type": "code",
   "execution_count": 6,
   "metadata": {},
   "outputs": [
    {
     "name": "stdout",
     "output_type": "stream",
     "text": [
      "Enter number:6\n",
      "Factorial:\n",
      "720\n"
     ]
    }
   ],
   "source": [
    "def factorial(n):\n",
    "    if(n <= 1):\n",
    "        return 1\n",
    "    else:\n",
    "        return(n*factorial(n-1))\n",
    "n = int(input(\"Enter number:\"))\n",
    "print(\"Factorial:\")\n",
    "print(factorial(n))"
   ]
  },
  {
   "cell_type": "markdown",
   "metadata": {},
   "source": [
    "## Recursion Problems"
   ]
  },
  {
   "cell_type": "markdown",
   "metadata": {},
   "source": [
    "#### Problem 8:\n",
    "#### Problem Statement: \n",
    "Power of number"
   ]
  },
  {
   "cell_type": "code",
   "execution_count": 7,
   "metadata": {},
   "outputs": [
    {
     "data": {
      "text/plain": [
       "1024"
      ]
     },
     "execution_count": 7,
     "metadata": {},
     "output_type": "execute_result"
    }
   ],
   "source": [
    "\n",
    "##Iterative method\n",
    "def power(n,r):\n",
    "    prod=1\n",
    "    for i in range(1,r+1):\n",
    "        prod *=n\n",
    "    return prod\n",
    "power(2,10)"
   ]
  },
  {
   "cell_type": "code",
   "execution_count": 8,
   "metadata": {},
   "outputs": [
    {
     "data": {
      "text/plain": [
       "27"
      ]
     },
     "execution_count": 8,
     "metadata": {},
     "output_type": "execute_result"
    }
   ],
   "source": [
    "##Using recursion\n",
    "def recursivePower(n,r):\n",
    "    if r==1:\n",
    "        return n\n",
    "    else:\n",
    "        return recursivePower(n,r-1) * n\n",
    "recursivePower(3,3)"
   ]
  },
  {
   "cell_type": "markdown",
   "metadata": {},
   "source": [
    "#### Problem 8:\n",
    "#### Problem Statement:\n",
    "GCD of two numbers using recursion"
   ]
  },
  {
   "cell_type": "code",
   "execution_count": 10,
   "metadata": {},
   "outputs": [
    {
     "data": {
      "text/plain": [
       "10"
      ]
     },
     "execution_count": 10,
     "metadata": {},
     "output_type": "execute_result"
    }
   ],
   "source": [
    " #GCD of two numbers remains the same when\n",
    "#small parameter is reduced to the remainder\n",
    "#and larger parameter is replaced by small parameter\n",
    "#GCD(a,b)=GCD(b%a,a)\n",
    "def gcdRecursive(a,b):\n",
    "    if b % a == 0:\n",
    "        return a\n",
    "    else:\n",
    "        gcdRecursive(b % a, a)\n",
    "gcdRecursive(10,100)"
   ]
  },
  {
   "cell_type": "code",
   "execution_count": 11,
   "metadata": {},
   "outputs": [
    {
     "data": {
      "text/plain": [
       "3"
      ]
     },
     "execution_count": 11,
     "metadata": {},
     "output_type": "execute_result"
    }
   ],
   "source": [
    "# Iterative GCD\n",
    "def gcdIterative(a,b):\n",
    "    r = b % a\n",
    "    if(r==0):\n",
    "        return a\n",
    "    while r!=0:\n",
    "        r=b%a\n",
    "        b=a\n",
    "        a=r\n",
    "    return b\n",
    "gcdIterative(12,39)"
   ]
  },
  {
   "cell_type": "markdown",
   "metadata": {},
   "source": [
    "#### Problem 9:\n",
    "#### Problem Statement:\n",
    "Towers of hanoi\n",
    "#### Constraints:\n",
    "* Larger disk cannot be placed on small disk\n",
    "* Only one disk can be moved at once\n",
    "#### Explanation:\n",
    "* n disks-> \n",
    "       move n-1 from source to temp\n",
    "       move nth disk from source to destination\n",
    "* 3 disks-> \n",
    "      move 2 disks from source to temp\n",
    "      move 3rd disk from source to destination\n",
    "      move 2 disks fromtemp to destination"
   ]
  },
  {
   "cell_type": "code",
   "execution_count": 12,
   "metadata": {},
   "outputs": [
    {
     "name": "stdout",
     "output_type": "stream",
     "text": [
      "Move  1 disk from  A to C\n",
      "Move  2 disk from  A to B\n",
      "Move  1 disk from  C to B\n",
      "Move  3 disk from  A to C\n",
      "Move  1 disk from  B to A\n",
      "Move  2 disk from  B to C\n",
      "Move  1 disk from  A to C\n"
     ]
    }
   ],
   "source": [
    "def towersOfHanoi(n,source,temp,dest):\n",
    "    if n==1:\n",
    "        print('Move ',n,'disk from ',source, 'to',dest)\n",
    "        return\n",
    "    else:\n",
    "        towersOfHanoi(n-1,source,dest,temp)\n",
    "        print('Move ',n,'disk from ',source, 'to',dest)\n",
    "        towersOfHanoi(n-1,temp,source,dest)\n",
    "        return\n",
    "    \n",
    "towersOfHanoi(3,'A','B','C')                                                                                                                                                                                                                                                                                                                                                                                                                                                                                                                                                                                                            "
   ]
  },
  {
   "cell_type": "markdown",
   "metadata": {},
   "source": [
    "#### Problem 10:\n",
    "#### Problem Statement:\n",
    "Generating nth fibonacci number\n",
    "#### Test cases:\n",
    "* Fibonacci(7)->8\n",
    "* Fibonacci(10)->34"
   ]
  },
  {
   "cell_type": "code",
   "execution_count": 13,
   "metadata": {},
   "outputs": [
    {
     "name": "stdout",
     "output_type": "stream",
     "text": [
      "8\n",
      "34\n"
     ]
    }
   ],
   "source": [
    "def Fibonacci(n): \n",
    "    if n==1: \n",
    "        return 0\n",
    "    elif n==2: \n",
    "        return 1\n",
    "    else: \n",
    "        return Fibonacci(n-1)+Fibonacci(n-2) \n",
    "print(Fibonacci(7))\n",
    "print(Fibonacci(10))"
   ]
  },
  {
   "cell_type": "markdown",
   "metadata": {},
   "source": [
    "#### Problem 11:\n",
    "#### Problem Statement:\n",
    "To check given number is perfect or not\n",
    "#### Test cases\n",
    "* Isperfect(3) -> False\n",
    "* Isperfect(6) -> True"
   ]
  },
  {
   "cell_type": "code",
   "execution_count": 14,
   "metadata": {},
   "outputs": [
    {
     "name": "stdout",
     "output_type": "stream",
     "text": [
      "Enter any number: 3\n",
      "False\n"
     ]
    }
   ],
   "source": [
    "n = int(input(\"Enter any number: \"))\n",
    "sum1 = 0\n",
    "for i in range(1, n):\n",
    "    if(n % i == 0):\n",
    "        sum1 = sum1 + i\n",
    "if (sum1 == n):\n",
    "    print(\"True\")\n",
    "else:\n",
    "    print(\"False\")"
   ]
  },
  {
   "cell_type": "markdown",
   "metadata": {},
   "source": [
    "#### Problem 12:\n",
    "#### Problem Statement: \n",
    "Count the number of digits in a given number.\n",
    "#### Test cases:\n",
    "* CountDigits(123456) -> 6\n",
    "* CountDigits (0) -> 1"
   ]
  },
  {
   "cell_type": "code",
   "execution_count": 15,
   "metadata": {},
   "outputs": [
    {
     "name": "stdout",
     "output_type": "stream",
     "text": [
      "Enter number:123456\n",
      "Total count of given numbers: 6\n"
     ]
    }
   ],
   "source": [
    "n=int(input(\"Enter number:\"))\n",
    "count=0\n",
    "while(n>0):\n",
    "    count=count+1\n",
    "    n=n//10\n",
    "print(\"Total count of given numbers:\",count)"
   ]
  },
  {
   "cell_type": "markdown",
   "metadata": {},
   "source": [
    "#### Problem 13:\n",
    "#### Problem Statement:\n",
    "To check if a given number is Prime and returns a Boolean value.\n",
    "#### Test cases:\n",
    "* IsPrime(7) -> True\n",
    "* IsPrime(9) -> False"
   ]
  },
  {
   "cell_type": "code",
   "execution_count": 16,
   "metadata": {},
   "outputs": [
    {
     "name": "stdout",
     "output_type": "stream",
     "text": [
      "True\n",
      "False\n"
     ]
    }
   ],
   "source": [
    "import sympy\n",
    "print(sympy.isprime(7))\n",
    "print(sympy.isprime(9))"
   ]
  },
  {
   "cell_type": "markdown",
   "metadata": {},
   "source": [
    "#### Problem 14:\n",
    "#### Problem Statement :\n",
    "Design a procedure to determine the frequency count of numbers in a given list\n",
    "#### Test case\n",
    "* Frequency( a[1,3,2,1] ) -> 1 : 2, 2 : 1, 3 : 1"
   ]
  },
  {
   "cell_type": "code",
   "execution_count": 19,
   "metadata": {},
   "outputs": [
    {
     "name": "stdout",
     "output_type": "stream",
     "text": [
      "1  :  2 2  :  1 3  :  1 "
     ]
    }
   ],
   "source": [
    "import numpy \n",
    "def frequency(list_):\n",
    "    x = numpy.unique(list_)\n",
    "    n = len(x)\n",
    "    for i in range(n):\n",
    "        print(x[i],\" : \",list_.count(x[i]),end = \" \")\n",
    "        \n",
    "a =[1,3,2,1]\n",
    "frequency(a)\n"
   ]
  },
  {
   "cell_type": "markdown",
   "metadata": {},
   "source": [
    "#### Problem 15:\n",
    "#### Problem Statement:\n",
    "Design a procedure to identify all unique elements in an array\n",
    "#### Test cases\n",
    "* unique([1, 2, 3, 4, 3, 2, 1, 0, 0]) -> [1, 2, 3, 4, 0]\n",
    "* unique([9]) -> [9]"
   ]
  },
  {
   "cell_type": "code",
   "execution_count": 24,
   "metadata": {},
   "outputs": [
    {
     "name": "stdout",
     "output_type": "stream",
     "text": [
      "[0 1 2 3 4]\n",
      "[9]\n"
     ]
    }
   ],
   "source": [
    "import numpy\n",
    "def unique(list_):\n",
    "    x = numpy.unique(list_)\n",
    "    print(x)\n",
    "a=[1,2,3,4,3,2,1,0,0]   \n",
    "unique(a)\n",
    "b=(9)\n",
    "unique(b)\n"
   ]
  },
  {
   "cell_type": "code",
   "execution_count": null,
   "metadata": {},
   "outputs": [],
   "source": []
  }
 ],
 "metadata": {
  "kernelspec": {
   "display_name": "Python 3",
   "language": "python",
   "name": "python3"
  },
  "language_info": {
   "codemirror_mode": {
    "name": "ipython",
    "version": 3
   },
   "file_extension": ".py",
   "mimetype": "text/x-python",
   "name": "python",
   "nbconvert_exporter": "python",
   "pygments_lexer": "ipython3",
   "version": "3.7.3"
  }
 },
 "nbformat": 4,
 "nbformat_minor": 2
}
